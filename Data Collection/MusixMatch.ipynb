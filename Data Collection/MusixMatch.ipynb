{
 "cells": [
  {
   "cell_type": "code",
   "execution_count": 22,
   "metadata": {},
   "outputs": [
    {
     "name": "stdout",
     "output_type": "stream",
     "text": [
      "\n",
      "Welcome to the Musixmatch API explorer!\n",
      "\n",
      "MENU OPTIONS\n",
      "1 - Call one of the API methods with parameters and see JSON\n",
      "2 - EXAMPLE: Search for the lyrics of a song\n",
      "0 - Exit\n",
      "\n",
      "> 1\n",
      "\n",
      "API METHODS\n",
      "0: matcher.lyrics.get\n",
      "1: track.lyrics.get\n",
      "2: matcher.track.get\n",
      "3: matcher.subtitle.get\n",
      "4: track.search\n",
      "5: artists.search\n",
      "6: album.tracks.get\n",
      "7: chart.tracks.get\n",
      "8: chart.artists.get\n",
      "9: artist.related.get\n",
      "10: artist.albums.get\n",
      "11: track.get\n",
      "12: artist.get\n",
      "13: album.get\n",
      "14: track.subtitle.get\n",
      "15: track.snippet.get\n",
      "\n",
      "Your choice (0 - 15)\n",
      "> 1\n",
      "\n",
      "PARAMATERS\n",
      "0: &track_id=\n",
      "\n",
      "API call so far: https://api.musixmatch.com/ws/1.1/track.lyrics.get?format=json&callback=callback\n",
      "\n",
      "Which parameter would you like to add a value for? (0-n) (type x to make the call)\n",
      "> Hello\n",
      "\n"
     ]
    },
    {
     "ename": "ValueError",
     "evalue": "invalid literal for int() with base 10: 'Hello'",
     "output_type": "error",
     "traceback": [
      "\u001b[0;31m---------------------------------------------------------------------------\u001b[0m",
      "\u001b[0;31mValueError\u001b[0m                                Traceback (most recent call last)",
      "\u001b[0;32m<ipython-input-22-f6a178cdaf1c>\u001b[0m in \u001b[0;36m<module>\u001b[0;34m\u001b[0m\n\u001b[1;32m     61\u001b[0m             \u001b[0;31m# add a parameter\u001b[0m\u001b[0;34m\u001b[0m\u001b[0;34m\u001b[0m\u001b[0;34m\u001b[0m\u001b[0m\n\u001b[1;32m     62\u001b[0m             \u001b[0;32melse\u001b[0m\u001b[0;34m:\u001b[0m\u001b[0;34m\u001b[0m\u001b[0;34m\u001b[0m\u001b[0m\n\u001b[0;32m---> 63\u001b[0;31m                 \u001b[0mparameter_choice_string\u001b[0m \u001b[0;34m=\u001b[0m \u001b[0mparameter_list\u001b[0m\u001b[0;34m[\u001b[0m\u001b[0mint\u001b[0m\u001b[0;34m(\u001b[0m\u001b[0mparameter_choice\u001b[0m\u001b[0;34m)\u001b[0m\u001b[0;34m]\u001b[0m\u001b[0;34m\u001b[0m\u001b[0;34m\u001b[0m\u001b[0m\n\u001b[0m\u001b[1;32m     64\u001b[0m                 \u001b[0mvalue\u001b[0m \u001b[0;34m=\u001b[0m \u001b[0minput\u001b[0m\u001b[0;34m(\u001b[0m\u001b[0mparameter_choice_string\u001b[0m\u001b[0;34m)\u001b[0m\u001b[0;34m\u001b[0m\u001b[0;34m\u001b[0m\u001b[0m\n\u001b[1;32m     65\u001b[0m                 \u001b[0mapi_call\u001b[0m \u001b[0;34m=\u001b[0m \u001b[0mapi_call\u001b[0m \u001b[0;34m+\u001b[0m \u001b[0mparameter_choice_string\u001b[0m \u001b[0;34m+\u001b[0m \u001b[0mvalue\u001b[0m\u001b[0;34m\u001b[0m\u001b[0;34m\u001b[0m\u001b[0m\n",
      "\u001b[0;31mValueError\u001b[0m: invalid literal for int() with base 10: 'Hello'"
     ]
    }
   ],
   "source": [
    "import requests\n",
    "import json\n",
    "from lyrics_api import *\n",
    "\n",
    "# example call: base_url + lyrics_matcher + format_url + artist_search_parameter + artist_variable + track_search_parameter + track_variable + api_key\n",
    "# example json print: print(json.dumps(api_call, sort_keys=True, indent=2))\n",
    "\n",
    "while True:\n",
    "    print()\n",
    "    print(\"Welcome to the Musixmatch API explorer!\")\n",
    "    print()\n",
    "    print(\"MENU OPTIONS\")\n",
    "    print(\"1 - Call one of the API methods with parameters and see JSON\")\n",
    "    print(\"2 - EXAMPLE: Search for the lyrics of a song\")\n",
    "    print(\"0 - Exit\")\n",
    "    print()\n",
    "    choice = input(\"> \")\n",
    "    print()\n",
    "\n",
    "    if choice == \"0\":\n",
    "        break\n",
    "\n",
    "    # see the paramaters for an api method\n",
    "    if choice == \"1\":\n",
    "        print(\"API METHODS\")\n",
    "        for index, api_method in enumerate(api_methods, start = 0):\n",
    "            print(str(index) + \": \" + api_method)\n",
    "        print()\n",
    "        print(\"Your choice (0 - 15)\")\n",
    "        method_choice = input(\"> \")\n",
    "        print()\n",
    "        user_choice = api_methods[int(method_choice)]\n",
    "        parameter_list = get_parameters(user_choice)\n",
    "\n",
    "        print(\"PARAMATERS\")\n",
    "        for index, parameter in enumerate(parameter_list, start = 0):\n",
    "            print(str(index) + \": \" + parameter)\n",
    "        print()\n",
    "\n",
    "        # start building the api call\n",
    "        api_call = base_url + user_choice + format_url\n",
    "\n",
    "        while True:\n",
    "            print(\"API call so far: \" + api_call)\n",
    "            print()\n",
    "            print(\"Which parameter would you like to add a value for? (0-n) (type x to make the call)\")\n",
    "            parameter_choice = input(\"> \")\n",
    "            print()\n",
    "\n",
    "            # add the api key and make the call\n",
    "            if parameter_choice == \"x\":\n",
    "                api_call = api_call + api_key\n",
    "                request = requests.get(api_call)\n",
    "                data = request.json()\n",
    "                print(\"Final API Call: \" + api_call)\n",
    "                print()\n",
    "                print(\"JSON DATA\")\n",
    "                print(json.dumps(data, sort_keys=True, indent=2))\n",
    "                break\n",
    "\n",
    "            # add a parameter\n",
    "            else:\n",
    "                parameter_choice_string = parameter_list[int(parameter_choice)]\n",
    "                value = input(parameter_choice_string)\n",
    "                api_call = api_call + parameter_choice_string + value\n",
    "                print()\n",
    "\n",
    "    # example\n",
    "    if choice == \"2\":\n",
    "        print(\"Whats's the name of the artist?\")\n",
    "        artist_name = input(\"> \")\n",
    "        print(\"What's the name of the track?\")\n",
    "        track_name = input(\"> \")\n",
    "        print()\n",
    "        api_call = base_url + lyrics_matcher + format_url + artist_search_parameter + artist_name + track_search_parameter + track_name + api_key\n",
    "        request = requests.get(api_call)\n",
    "        data = request.json()\n",
    "        data = data['message']['body']\n",
    "        print(\"API Call: \" + api_call)\n",
    "        print()\n",
    "        print(data['lyrics']['lyrics_body'])\n",
    "\n",
    "    # check if the user wants to go again\n",
    "    print()\n",
    "    print(\"Again? (y/n)\")\n",
    "    again = input(\"> \")\n",
    "    if again == \"n\":\n",
    "        break"
   ]
  },
  {
   "cell_type": "code",
   "execution_count": 47,
   "metadata": {},
   "outputs": [
    {
     "name": "stdout",
     "output_type": "stream",
     "text": [
      "\u001b[1m\n",
      "         .:::.     .::.       \n",
      "        ....yy:    .yy.       \n",
      "        :.  .yy.    y.        \n",
      "             :y:   .:         \n",
      "             .yy  .:          \n",
      "              yy..:           \n",
      "              :y:.            \n",
      "              .y.             \n",
      "             .:.              \n",
      "        ....:.                \n",
      "        :::.                  \n",
      "\u001b[0;33m\n",
      "• Project files and data should be stored in /project. This is shared among everyone\n",
      "  in the project.\n",
      "• Personal files and configuration should be stored in /home/faculty.\n",
      "• Files outside /project and /home/faculty will be lost when this server is terminated.\n",
      "• Create custom environments to setup your servers reproducibly.\n",
      "\u001b[0m\n",
      "Requirement already satisfied: pymusixmatch in /opt/anaconda/envs/Python3/lib/python3.8/site-packages (0.3)\n",
      "Requirement already satisfied: requests in /opt/anaconda/envs/Python3/lib/python3.8/site-packages (from pymusixmatch) (2.25.1)\n",
      "Requirement already satisfied: chardet<5,>=3.0.2 in /opt/anaconda/envs/Python3/lib/python3.8/site-packages (from requests->pymusixmatch) (4.0.0)\n",
      "Requirement already satisfied: urllib3<1.27,>=1.21.1 in /opt/anaconda/envs/Python3/lib/python3.8/site-packages (from requests->pymusixmatch) (1.26.4)\n",
      "Requirement already satisfied: certifi>=2017.4.17 in /opt/anaconda/envs/Python3/lib/python3.8/site-packages (from requests->pymusixmatch) (2021.5.30)\n",
      "Requirement already satisfied: idna<3,>=2.5 in /opt/anaconda/envs/Python3/lib/python3.8/site-packages (from requests->pymusixmatch) (2.10)\n",
      "Note: you may need to restart the kernel to use updated packages.\n"
     ]
    }
   ],
   "source": [
    "pip install pymusixmatch"
   ]
  },
  {
   "cell_type": "code",
   "execution_count": 49,
   "metadata": {},
   "outputs": [],
   "source": [
    "import requests"
   ]
  },
  {
   "cell_type": "code",
   "execution_count": 56,
   "metadata": {},
   "outputs": [],
   "source": [
    "url = \"https://api.musixmatch.com/ws/1.1/matcher.lyrics.get\""
   ]
  },
  {
   "cell_type": "code",
   "execution_count": 57,
   "metadata": {},
   "outputs": [],
   "source": [
    "key = \"016b5f69ece527e9ec8f1e2ff6e9f27c\""
   ]
  },
  {
   "cell_type": "code",
   "execution_count": 58,
   "metadata": {},
   "outputs": [],
   "source": [
    "req = requests.get(url,params = {\n",
    "    \"apikey\": key,\n",
    "    \"q_track\": \"Drive\",\n",
    "    \"q_artist\": \"Halsey\"\n",
    "})"
   ]
  },
  {
   "cell_type": "code",
   "execution_count": 59,
   "metadata": {},
   "outputs": [
    {
     "data": {
      "text/plain": [
       "200"
      ]
     },
     "execution_count": 59,
     "metadata": {},
     "output_type": "execute_result"
    }
   ],
   "source": [
    "req.status_code"
   ]
  },
  {
   "cell_type": "code",
   "execution_count": 60,
   "metadata": {},
   "outputs": [],
   "source": [
    "Drive = req.json()"
   ]
  },
  {
   "cell_type": "code",
   "execution_count": 61,
   "metadata": {},
   "outputs": [
    {
     "data": {
      "text/plain": [
       "{'message': {'header': {'status_code': 200, 'execute_time': 0.092571020126343},\n",
       "  'body': {'lyrics': {'lyrics_id': 27157087,\n",
       "    'explicit': 0,\n",
       "    'lyrics_body': 'My hands wrapped around a stick shift\\nSwerving on the 405, I can never keep my eyes off this\\n\\nMy neck, the feeling of your soft lips\\nIlluminated in the light, bouncing off the exit signs I missed\\n\\nAll we do is drive\\nAll we do is think about the feelings that we hide\\nAll we do is sit in silence waiting for a sign\\nSick and full of pride\\nAll we do is drive\\n...\\n\\n******* This Lyrics is NOT for Commercial use *******\\n(1409622496242)',\n",
       "    'script_tracking_url': 'https://tracking.musixmatch.com/t1.0/m_js/e_1/sn_0/l_27157087/su_0/rs_0/tr_3vUCAA7k2FNFiaI_aK7FodaAkiNUBQDPBPXor0GFj_w4kTFkFYoni-yjfRimJlf3S1Gu0n0XP-vAOxgle7U6EtPMnxliqUOgdgUKSO7-hQrPXLHvEG-hXBpSzUEF1wFCwf00syYcf824sECiDAqZ92FmFHP4_zVXSzULnUODUxWLujNRLXvzgRfU02PFjyGJmmsMKJBJ4K4KBluc84wp-EdKzLSJKw5sJLzsK0uxgPnSqgZAhoXw8vV06LEsjkoPug-H7tfmI-nF7MwE78zFIBnp2v9iDK7EdMK94bvg1xsFAMSBGQ1jeS3GfVMnPyz4R9OezU0UnWtnn0RIhhJAC6W_ORcMtUJTdWHS6Bnbfz-Vdag2a9ovMAZsCl5V3VBueJ-vRZzJL4OLLWsg6P9tRREilJEHYXgngNephxv560kSqi4Skz9C72oykQ/',\n",
       "    'pixel_tracking_url': 'https://tracking.musixmatch.com/t1.0/m_img/e_1/sn_0/l_27157087/su_0/rs_0/tr_3vUCAHWUDrqf3C5wF-zbFODaMM_XDYX2XBpHm0OAjZFX4lDZZwje2Y6BSiu2t4e9qA9Dc_xjYBsQnX9pmxnmjlZOh1zmHCzuSlfdvI_yCyfQFjyUMbswi_etbWkUQgbqHKYuc_2js3uwM6MmK-cupNnnTQq60wsGnLdQJXEroAqpUDCoSLk9Jmdn-mmd3iVokSkUOw9cR8u1qiIpTTl5w7cxvtncAsi-PE4ABQmkJa3tmsCrbEdUwqKhwkjx7AtlCCteKid5LPZ02R-jmks8mpZ2yQNH4bzw6sleaiEmvOe6P55CWsZu6YPCC_eJAAGCx3ZQojcXj4DprmBB8zP__lrdkiOLcybw3wr3QQAAtIwgzLtGRUfCISvdzFQzAw_aNcLk6sy6vBTUx0iEgfO_tZa2J8CktCkBOe9D0NDHgIkVWo1nLVl0sPtXQw/',\n",
       "    'lyrics_copyright': 'Lyrics powered by www.musixmatch.com. This Lyrics is NOT for Commercial use and only 30% of the lyrics are returned.',\n",
       "    'updated_time': '2021-12-22T13:51:39Z'}}}}"
      ]
     },
     "execution_count": 61,
     "metadata": {},
     "output_type": "execute_result"
    }
   ],
   "source": [
    "Drive"
   ]
  },
  {
   "cell_type": "code",
   "execution_count": 62,
   "metadata": {},
   "outputs": [
    {
     "data": {
      "text/plain": [
       "'My hands wrapped around a stick shift Swerving on the 405, I can never keep my eyes off this  My neck, the feeling of your soft lips Illuminated in the light, bouncing off the exit signs I missed  All we do is drive All we do is think about the feelings that we hide All we do is sit in silence waiting for a sign Sick and full of pride All we do is drive ...   (1409622496242)'"
      ]
     },
     "execution_count": 62,
     "metadata": {},
     "output_type": "execute_result"
    }
   ],
   "source": [
    "Drive['message']['body']['lyrics']['lyrics_body'].strip('\\t\\n\\r').replace('\\n',' ')\\\n",
    ".replace('******* This Lyrics is NOT for Commercial use *******','')"
   ]
  },
  {
   "cell_type": "code",
   "execution_count": null,
   "metadata": {},
   "outputs": [],
   "source": []
  }
 ],
 "metadata": {
  "kernelspec": {
   "display_name": "Python [conda env:Python3] *",
   "language": "python",
   "name": "conda-env-Python3-py"
  },
  "language_info": {
   "codemirror_mode": {
    "name": "ipython",
    "version": 3
   },
   "file_extension": ".py",
   "mimetype": "text/x-python",
   "name": "python",
   "nbconvert_exporter": "python",
   "pygments_lexer": "ipython3",
   "version": "3.8.2"
  }
 },
 "nbformat": 4,
 "nbformat_minor": 2
}
