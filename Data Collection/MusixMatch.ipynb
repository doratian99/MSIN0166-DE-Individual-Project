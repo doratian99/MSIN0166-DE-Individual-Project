{
 "cells": [
  {
   "cell_type": "code",
   "execution_count": 49,
   "metadata": {},
   "outputs": [],
   "source": [
    "import requests"
   ]
  },
  {
   "cell_type": "code",
   "execution_count": 56,
   "metadata": {},
   "outputs": [],
   "source": [
    "url = \"https://api.musixmatch.com/ws/1.1/matcher.lyrics.get\""
   ]
  },
  {
   "cell_type": "code",
   "execution_count": 57,
   "metadata": {},
   "outputs": [],
   "source": [
    "key = \"016b5f69ece527e9ec8f1e2ff6e9f27c\""
   ]
  },
  {
   "cell_type": "code",
   "execution_count": 58,
   "metadata": {},
   "outputs": [],
   "source": [
    "req = requests.get(url,params = {\n",
    "    \"apikey\": key,\n",
    "    \"q_track\": \"Drive\",\n",
    "    \"q_artist\": \"Halsey\"\n",
    "})"
   ]
  },
  {
   "cell_type": "code",
   "execution_count": 59,
   "metadata": {},
   "outputs": [
    {
     "data": {
      "text/plain": [
       "200"
      ]
     },
     "execution_count": 59,
     "metadata": {},
     "output_type": "execute_result"
    }
   ],
   "source": [
    "req.status_code"
   ]
  },
  {
   "cell_type": "code",
   "execution_count": 60,
   "metadata": {},
   "outputs": [],
   "source": [
    "Drive = req.json()"
   ]
  },
  {
   "cell_type": "code",
   "execution_count": 61,
   "metadata": {},
   "outputs": [
    {
     "data": {
      "text/plain": [
       "{'message': {'header': {'status_code': 200, 'execute_time': 0.092571020126343},\n",
       "  'body': {'lyrics': {'lyrics_id': 27157087,\n",
       "    'explicit': 0,\n",
       "    'lyrics_body': 'My hands wrapped around a stick shift\\nSwerving on the 405, I can never keep my eyes off this\\n\\nMy neck, the feeling of your soft lips\\nIlluminated in the light, bouncing off the exit signs I missed\\n\\nAll we do is drive\\nAll we do is think about the feelings that we hide\\nAll we do is sit in silence waiting for a sign\\nSick and full of pride\\nAll we do is drive\\n...\\n\\n******* This Lyrics is NOT for Commercial use *******\\n(1409622496242)',\n",
       "    'script_tracking_url': 'https://tracking.musixmatch.com/t1.0/m_js/e_1/sn_0/l_27157087/su_0/rs_0/tr_3vUCAA7k2FNFiaI_aK7FodaAkiNUBQDPBPXor0GFj_w4kTFkFYoni-yjfRimJlf3S1Gu0n0XP-vAOxgle7U6EtPMnxliqUOgdgUKSO7-hQrPXLHvEG-hXBpSzUEF1wFCwf00syYcf824sECiDAqZ92FmFHP4_zVXSzULnUODUxWLujNRLXvzgRfU02PFjyGJmmsMKJBJ4K4KBluc84wp-EdKzLSJKw5sJLzsK0uxgPnSqgZAhoXw8vV06LEsjkoPug-H7tfmI-nF7MwE78zFIBnp2v9iDK7EdMK94bvg1xsFAMSBGQ1jeS3GfVMnPyz4R9OezU0UnWtnn0RIhhJAC6W_ORcMtUJTdWHS6Bnbfz-Vdag2a9ovMAZsCl5V3VBueJ-vRZzJL4OLLWsg6P9tRREilJEHYXgngNephxv560kSqi4Skz9C72oykQ/',\n",
       "    'pixel_tracking_url': 'https://tracking.musixmatch.com/t1.0/m_img/e_1/sn_0/l_27157087/su_0/rs_0/tr_3vUCAHWUDrqf3C5wF-zbFODaMM_XDYX2XBpHm0OAjZFX4lDZZwje2Y6BSiu2t4e9qA9Dc_xjYBsQnX9pmxnmjlZOh1zmHCzuSlfdvI_yCyfQFjyUMbswi_etbWkUQgbqHKYuc_2js3uwM6MmK-cupNnnTQq60wsGnLdQJXEroAqpUDCoSLk9Jmdn-mmd3iVokSkUOw9cR8u1qiIpTTl5w7cxvtncAsi-PE4ABQmkJa3tmsCrbEdUwqKhwkjx7AtlCCteKid5LPZ02R-jmks8mpZ2yQNH4bzw6sleaiEmvOe6P55CWsZu6YPCC_eJAAGCx3ZQojcXj4DprmBB8zP__lrdkiOLcybw3wr3QQAAtIwgzLtGRUfCISvdzFQzAw_aNcLk6sy6vBTUx0iEgfO_tZa2J8CktCkBOe9D0NDHgIkVWo1nLVl0sPtXQw/',\n",
       "    'lyrics_copyright': 'Lyrics powered by www.musixmatch.com. This Lyrics is NOT for Commercial use and only 30% of the lyrics are returned.',\n",
       "    'updated_time': '2021-12-22T13:51:39Z'}}}}"
      ]
     },
     "execution_count": 61,
     "metadata": {},
     "output_type": "execute_result"
    }
   ],
   "source": [
    "Drive"
   ]
  },
  {
   "cell_type": "code",
   "execution_count": 62,
   "metadata": {},
   "outputs": [
    {
     "data": {
      "text/plain": [
       "'My hands wrapped around a stick shift Swerving on the 405, I can never keep my eyes off this  My neck, the feeling of your soft lips Illuminated in the light, bouncing off the exit signs I missed  All we do is drive All we do is think about the feelings that we hide All we do is sit in silence waiting for a sign Sick and full of pride All we do is drive ...   (1409622496242)'"
      ]
     },
     "execution_count": 62,
     "metadata": {},
     "output_type": "execute_result"
    }
   ],
   "source": [
    "Drive['message']['body']['lyrics']['lyrics_body'].strip('\\t\\n\\r').replace('\\n',' ')\\\n",
    ".replace('******* This Lyrics is NOT for Commercial use *******','')"
   ]
  },
  {
   "cell_type": "code",
   "execution_count": null,
   "metadata": {},
   "outputs": [],
   "source": []
  }
 ],
 "metadata": {
  "kernelspec": {
   "display_name": "Python [conda env:Python3] *",
   "language": "python",
   "name": "conda-env-Python3-py"
  },
  "language_info": {
   "codemirror_mode": {
    "name": "ipython",
    "version": 3
   },
   "file_extension": ".py",
   "mimetype": "text/x-python",
   "name": "python",
   "nbconvert_exporter": "python",
   "pygments_lexer": "ipython3",
   "version": "3.8.2"
  }
 },
 "nbformat": 4,
 "nbformat_minor": 2
}
